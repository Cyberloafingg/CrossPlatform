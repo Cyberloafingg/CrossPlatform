{
 "cells": [
  {
   "cell_type": "markdown",
   "metadata": {},
   "source": [
    "# 测试百度API"
   ]
  },
  {
   "cell_type": "code",
   "execution_count": 1,
   "metadata": {},
   "outputs": [],
   "source": [
    "import requests\n",
    "import random\n",
    "import json\n",
    "from hashlib import md5\n",
    "\n",
    "import json\n",
    "import os\n",
    "# 导入进度条库\n",
    "from tqdm import tqdm\n",
    "from langdetect import detect"
   ]
  },
  {
   "cell_type": "code",
   "execution_count": 8,
   "metadata": {},
   "outputs": [
    {
     "name": "stdout",
     "output_type": "stream",
     "text": [
      "TEPCO: Possible perforation of reactor vessel at Unit 1 of Fukushima Daiichi Nuclear Power Plant\n"
     ]
    }
   ],
   "source": [
    "# Set your own appid/appkey.\n",
    "appid = '20221016001395046'\n",
    "appkey = 'W2hCHXMvlnJhdcIrlM6W'\n",
    "\n",
    "# For list of language codes, please refer to `https://api.fanyi.baidu.com/doc/21`\n",
    "from_lang = 'auto'\n",
    "to_lang =  'en'\n",
    "\n",
    "endpoint = 'http://api.fanyi.baidu.com'\n",
    "path = '/api/trans/vip/translate'\n",
    "url = endpoint + path\n",
    "query = '东电：福岛第一核电站1号机组反应堆容器可能穿孔东电：福岛第一核电站1号机组反应堆容器可能穿孔'\n",
    "# Generate salt and sign\n",
    "def make_md5(s, encoding='utf-8'):\n",
    "    return md5(s.encode(encoding)).hexdigest()\n",
    "\n",
    "def baidu_translate(query,from_lang,to_lang):\n",
    "    is_scusseful = False\n",
    "    salt = random.randint(32768, 65536)\n",
    "    sign = make_md5(appid + query + str(salt) + appkey)\n",
    "    # Build request\n",
    "    headers = {'Content-Type': 'application/x-www-form-urlencoded'}\n",
    "    payload = {'appid': appid, 'q': query, 'from': from_lang, 'to': to_lang, 'salt': salt, 'sign': sign}\n",
    "    # Send request\n",
    "    r = requests.post(url, params=payload, headers=headers)\n",
    "    result = r.json()\n",
    "    if \"trans_result\" not in result:\n",
    "        return query,is_scusseful\n",
    "    else:\n",
    "        is_scusseful = True\n",
    "        return result[\"trans_result\"][0]['dst'],is_scusseful\n",
    "print(baidu_translate(query,from_lang, to_lang)[0])"
   ]
  },
  {
   "cell_type": "markdown",
   "metadata": {},
   "source": [
    "# 探索微博数据"
   ]
  },
  {
   "cell_type": "code",
   "execution_count": 2,
   "metadata": {},
   "outputs": [
    {
     "name": "stdout",
     "output_type": "stream",
     "text": [
      "['.idea', '.ipynb_checkpoints', 'data', 'src']\n"
     ]
    }
   ],
   "source": [
    "def get_directories(path):\n",
    "    return [d for d in os.listdir(path) if os.path.isdir(os.path.join(path, d))]\n",
    "current_directory = os.getcwd()\n",
    "directories = get_directories(current_directory)\n",
    "print(directories)"
   ]
  },
  {
   "cell_type": "code",
   "execution_count": 26,
   "metadata": {},
   "outputs": [
    {
     "name": "stderr",
     "output_type": "stream",
     "text": [
      "100%|██████████| 2472/2472 [00:01<00:00, 1931.99it/s]"
     ]
    },
    {
     "name": "stdout",
     "output_type": "stream",
     "text": [
      "234391\n",
      "200739\n"
     ]
    },
    {
     "name": "stderr",
     "output_type": "stream",
     "text": [
      "\n"
     ]
    }
   ],
   "source": [
    "WEIBO_POST_PATH = \"./data/WeiboData/post\"\n",
    "WEIBO_ACCOUNT_PATH = \"./data/WeiboData/account\"\n",
    "post_all_data = []\n",
    "for filename in tqdm(os.listdir(WEIBO_POST_PATH)):\n",
    "    if filename.endswith('.json'):\n",
    "        file_path = os.path.join(WEIBO_POST_PATH, filename)\n",
    "        with open(file_path, 'r',encoding='utf-8') as file:\n",
    "            data_group = json.load(file)\n",
    "            post_all_data.extend(data_group)\n",
    "print(len(post_all_data))\n",
    "# 查找其中空的数据，并删除\n",
    "post_all_data = [data for data in post_all_data if \"content\" in data]\n",
    "print(len(post_all_data))"
   ]
  },
  {
   "cell_type": "markdown",
   "metadata": {},
   "source": [
    "## 统计语言数量，选择其中所有中文"
   ]
  },
  {
   "cell_type": "code",
   "execution_count": 29,
   "metadata": {},
   "outputs": [
    {
     "name": "stderr",
     "output_type": "stream",
     "text": [
      "100%|██████████| 200739/200739 [00:00<00:00, 1857258.74it/s]"
     ]
    },
    {
     "name": "stdout",
     "output_type": "stream",
     "text": [
      "200676\n"
     ]
    },
    {
     "name": "stderr",
     "output_type": "stream",
     "text": [
      "\n"
     ]
    }
   ],
   "source": [
    "lang_dict = {}\n",
    "for data in tqdm(post_all_data):\n",
    "    lang = data['cont_languages']\n",
    "    if lang in lang_dict:\n",
    "        lang_dict[lang] += 1\n",
    "    else:\n",
    "        lang_dict[lang] = 1\n",
    "# 去除其中非zh-cn的数据\n",
    "post_all_data = [data for data in post_all_data if data['cont_languages'] == 'zh-cn']\n",
    "print(len(post_all_data))"
   ]
  },
  {
   "cell_type": "code",
   "execution_count": 28,
   "metadata": {},
   "outputs": [
    {
     "data": {
      "text/plain": [
       "{'zh-cn': 200676, 'ru': 2, 'zh-tw': 5, 'ja': 50, 'es': 1, 'no': 4, 'ko': 1}"
      ]
     },
     "execution_count": 28,
     "metadata": {},
     "output_type": "execute_result"
    }
   ],
   "source": [
    "lang_dict"
   ]
  },
  {
   "cell_type": "code",
   "execution_count": 30,
   "metadata": {},
   "outputs": [
    {
     "name": "stderr",
     "output_type": "stream",
     "text": [
      "  0%|          | 418/200676 [09:15<553:25:31,  9.95s/it]"
     ]
    },
    {
     "name": "stdout",
     "output_type": "stream",
     "text": [
      "Translation failed for post: {'cnt_retweet': '31', 'cont_languages': 'zh-cn', 'publish_time': '20230414094011', 'page_action_type': '07', 'cnt_agree': '5', 'nickname': '小央视频', 'topic_id': '4890361115445131', 'userid': '6362632222', 'cnt_comment': '29', 'content': '【#日专家称核污水放射性物质浓度极高# 部分超标百倍！】#福岛核污水部分放射性物质超标百倍#日本福岛大学教授柴崎直明是福岛废炉安全监视协议会委员，负责福岛第一核电站周边地质与地下水监测工作。他在接受总台记者采访时表示，目前福岛核污染水中含有的放射性物质浓度极高，未达到向海洋排放标准。 http://t.cn/A6N5Aqus', 'url': 'https://m.weibo.cn/status/4890361115445131', 'username': '小央视频'}, Error: Expecting value: line 1 column 1 (char 0)\n"
     ]
    },
    {
     "name": "stderr",
     "output_type": "stream",
     "text": [
      "  0%|          | 747/200676 [16:59<560:01:30, 10.08s/it]"
     ]
    },
    {
     "name": "stdout",
     "output_type": "stream",
     "text": [
      "Translation failed for post: {'cnt_retweet': '0', 'cont_languages': 'zh-cn', 'page_action_type': '11', 'relevant_username': '观察者网', 'userid': '7785349790', 'content': '#日专家称核污水放射性物质浓度极高# RT:@观察者网 【#日专家称核污水放射性物质浓度极高# 部分超标百倍！】#福岛核污水部分放射性物质超标百倍#日本福岛大学教授柴崎直明是福岛废炉安全监视协议会委员，负责福岛第一核电站周边地质与地下水监测工作。他在接受总台记者采访时表示，目前福岛核污染水中含有的放射性物质浓度极高，未达到向海洋排放标准。 \\u200b\\u200b\\u200b ...展开', 'url': 'https://m.weibo.cn/status/4891111308923037', 'relevant_nickname': '观察者网', 'relevant_userid': '1887344341', 'publish_time': '20230416112111', 'cnt_agree': '0', 'nickname': '五千镜缘', 'cnt_comment': '0', 'username': '五千镜缘'}, Error: Expecting value: line 1 column 1 (char 0)\n"
     ]
    },
    {
     "name": "stderr",
     "output_type": "stream",
     "text": [
      "  0%|          | 950/200676 [21:22<75:18:14,  1.36s/it] "
     ]
    },
    {
     "name": "stdout",
     "output_type": "stream",
     "text": [
      "Translation failed for post: {'cnt_retweet': '0', 'page_picture_path': 'http://wx2.sinaimg.cn/bmiddle/005S13rBly1hd8j3hyw5zj30ku0bqtb1.jpg', 'cont_languages': 'zh-cn', 'publish_time': '20230423060000', 'page_action_type': '07', 'cnt_agree': '0', 'topic_id': 'MDg6Pl4nd', 'userid': '5378837875', 'cnt_comment': '0', 'content': '【资讯早茶｜不欺骗消费者！多地规范“五一”旅游市场价格】今天是2023年4月23日，星期日。#资讯早茶# 告诉您，有哪些值得关注的大事：1. 4月23日是中国人民解放军海军建军节。从22日起到24日，海军将在青岛、上海、广州等22个城市举行军营开放活动，并在沿海军港码头，展示包括导弹驱逐舰开封舰、导弹护卫舰大庆舰、综合补给舰可可西里湖舰和综合援潜救生船洪泽湖船等多型海军主战舰艇，其中很多都将是首次面向公众开放。#人民海军74周岁#2. 自然资源部宣布，我国已首次全面完成了全国生态保护红线的划定。生态保护红线主要集中分布在青藏高原生态区、黄河重点生态区、长江重点生态区等区域，涵盖了约占国土面积18%的各类自然保护地，90%的陆生生态系统类型和85%的重点野生动物种群。3. 自国家统计局发布今年一季度主要经济数据以来，截至21日，至少已有北京、天津、山西、宁夏等17个省份公布了今年一季度经济数据。其中，浙江、四川、湖北、湖南、上海5个省份今年一季度GDP超过1万亿元。同比增速方面，17个省份中，有13个省份高于全国数据（4.5％），其中吉林省（8.2%）表现亮眼，同比增速高于全国3.7个百分点。4. 作为2023年春节后首个长假，今年“五一”假期旅游市场热度急速蹿升。酒店、餐饮、景区等的价格也成为外出旅游者关注的焦点。目前，包括长沙、大理、泉州等多地都已对“五一”期间的价格秩序提出专门要求，要求明码标价、不欺骗消费者。5. 北京全力救治长峰医院火灾事故伤病员。“4·18”火灾事故伤病员转运入院后，北京市紧急成立现场医疗救治指挥部，加大医护力量调配和ICU床位供给，迅速组建救治专家组。截至21日14时，在院治疗伤病员39人。其中，危重4人、重症17人、病情平稳18人。下面是一组国际新闻：1. 日本核污水排海计划“生变”。关于日本福岛第一核电站核污染水排海计划，东京电力公司表示，目前正在挖掘的海底隧道将于6月底完工，工程完成后需接受原子力规制委员会的使用前检查，日本政府此前预测的“春夏之际”排放可能要到夏天以后才能开始实施，预计7月份的可能性较大。2. 德国当地时间21日，乌克兰防务问题国际联络小组举行会议，讨论对乌实施进一步的军事支持计划。针对乌方提出的战机需求，美国国防部长奥斯汀采取回避态度，称乌克兰现在最需要的是陆基防空系统。德国国防部长皮斯托里乌斯也表示，德国可提供的战机过于老旧，且培训起来较为困难，并不符合乌方要求。3. 苏丹外交部当地时间21日晚表示，在停火期间将协调和安排美国、英国、法国和德国等国家的外国侨民撤离工作。苏丹快速支援部队和苏丹武装部队当天先后宣布停火3天，但进入停火期后，首都喀土穆市区仍不时传出枪炮声。以上新闻由@云听资讯 和@传媒茶话会 联合为您播报。更多新闻，请下载云听客户端。听云听，知天下。', 'url': 'http://weibo.com/5378837875/MDg6Pl4nd'}, Error: Expecting value: line 1 column 1 (char 0)\n"
     ]
    },
    {
     "name": "stderr",
     "output_type": "stream",
     "text": [
      "  1%|          | 2458/200676 [1:07:50<173:09:54,  3.14s/it] "
     ]
    },
    {
     "name": "stdout",
     "output_type": "stream",
     "text": [
      "Translation failed for post: {'cnt_retweet': '6', 'cont_languages': 'zh-cn', 'page_action_type': '07', 'userid': '5044281310', 'content': '【日本复兴相：明年将在越南和泰国推广福岛水产品】#日本将在越南和泰国推广福岛水产品#福岛第一核电站的第二轮核污染水排海正在进行，日本复兴相土屋品子13日表示，为了更好地应对排海带来的“风评”问题，复兴厅明年将分别在越南和泰国推广福岛水产品，着力海外市场，通过举办活动和展览会等方式销售 \\u200b\\u200b\\u200b', 'url': 'https://m.weibo.cn/status/4956762425262637', 'page_picture_path': 'https://wx4.sinaimg.cn/wap180/005vnhZYly1hiut7mvcinj61xg1aahdu02.jpg', 'publish_time': '20231014151517', 'cnt_agree': '49', 'nickname': '澎湃新闻', 'topic_id': '4956762425262637', 'cnt_comment': '19', 'username': '澎湃新闻'}, Error: Expecting value: line 1 column 1 (char 0)\n"
     ]
    },
    {
     "name": "stderr",
     "output_type": "stream",
     "text": [
      "  1%|          | 2459/200676 [1:07:56<227:03:28,  4.12s/it]"
     ]
    },
    {
     "name": "stdout",
     "output_type": "stream",
     "text": [
      "Translation failed for post: {'cnt_retweet': '1', 'cont_languages': 'zh-cn', 'publish_time': '20231014011850', 'page_action_type': '07', 'cnt_agree': '0', 'nickname': '苍龙飞天79', 'topic_id': '4956551926777464', 'userid': '3176105483', 'cnt_comment': '0', 'content': '日本核污染水样本第二次被检出氚，浓度显著增高 央视报道，日本于10月5日启动第二轮福岛核污染水排海，第二轮排放之后，第二次被检验出氚。中国呼吁立即建立日本核污染水的长期有效国际监测安排。根据东电在10月7日发布的消息，在福岛第一核电站核污水排放口附近取样的海水中，验出放射性物质氚浓度为 \\u200b\\u200b\\u200b', 'url': 'https://m.weibo.cn/status/4956551926777464', 'username': '苍龙飞天79'}, Error: Expecting value: line 1 column 1 (char 0)\n"
     ]
    },
    {
     "name": "stderr",
     "output_type": "stream",
     "text": [
      "  1%|          | 2460/200676 [1:08:03<273:26:05,  4.97s/it]"
     ]
    },
    {
     "name": "stdout",
     "output_type": "stream",
     "text": [
      "Translation failed for post: {'cnt_retweet': '17', 'cont_languages': 'zh-cn', 'page_action_type': '07', 'userid': '1323527941', 'content': '【#日本将在越南泰国推广福岛水产品#】福岛第一核电站的第二轮核污染水排海正在进行，日本复兴相土屋品子13日表示，为了更好地应对排海带来的“风评”问题，复兴厅明年将分别在越南和泰国推广福岛水产品，着力海外市场，通过举办活动和展览会等方式销售福岛水产。 土屋品子表示，今年越南已经开通了飞 \\u200b\\u200b\\u200b', 'url': 'https://m.weibo.cn/status/4956773678581002', 'page_picture_path': 'https://wx4.sinaimg.cn/wap180/001rzo4Rly1hiuu2joc7ij60li0jr13h02.jpg', 'publish_time': '20231014160000', 'cnt_agree': '183', 'nickname': 'Vista看天下', 'topic_id': '4956773678581002', 'cnt_comment': '32', 'username': 'Vista看天下'}, Error: Expecting value: line 1 column 1 (char 0)\n"
     ]
    },
    {
     "name": "stderr",
     "output_type": "stream",
     "text": [
      "  1%|          | 2461/200676 [1:08:10<298:20:07,  5.42s/it]"
     ]
    },
    {
     "name": "stdout",
     "output_type": "stream",
     "text": [
      "Translation failed for post: {'cnt_retweet': '0', 'cont_languages': 'zh-cn', 'publish_time': '20231014153942', 'page_action_type': '07', 'cnt_agree': '0', 'nickname': '快兰斯24小时财经直播2', 'topic_id': '4956768570182016', 'userid': '6450367173', 'cnt_comment': '1', 'content': '实时播报：【日本复兴相：明年将在越南和泰国推广福岛水产品】福岛第一核电站的第二轮核污染水排海正在进行，日本复兴相土屋品子13日表示，为了更好地应对排海带来的“风评”问题，复兴厅明年将分别在越南和泰国推广福岛水产品，着力海外市场，通过举办活动和展览会等方式销售福岛水产。土屋品子表示， \\u200b\\u200b\\u200b', 'url': 'https://m.weibo.cn/status/4956768570182016', 'username': '快兰斯24小时财经直播2'}, Error: Expecting value: line 1 column 1 (char 0)\n"
     ]
    },
    {
     "name": "stderr",
     "output_type": "stream",
     "text": [
      "  1%|          | 2462/200676 [1:08:16<314:40:57,  5.72s/it]"
     ]
    },
    {
     "name": "stdout",
     "output_type": "stream",
     "text": [
      "Translation failed for post: {'cnt_retweet': '0', 'cont_languages': 'zh-cn', 'publish_time': '20231016200046', 'page_action_type': '07', 'cnt_agree': '0', 'nickname': '语文阅刊', 'topic_id': '4957559045752569', 'userid': '1747766363', 'cnt_comment': '0', 'content': '#日本要求俄撤销限制进口日本水产品决定# 【俄罗斯宣布决定对自日本进口水产品实施限制，日方急忙回应】俄罗斯16日宣布已决定对自日本进口鱼类等水产品实施限制，作为“预防性措施”。据日本共同社最新报道，俄方上述决定引起日方“强烈反对”。日本近期不顾国际社会强烈反对执意启动福岛第一核电站核 \\u200b\\u200b\\u200b', 'url': 'https://m.weibo.cn/status/4957559045752569', 'username': '语文阅刊'}, Error: Expecting value: line 1 column 1 (char 0)\n"
     ]
    },
    {
     "name": "stderr",
     "output_type": "stream",
     "text": [
      "  1%|          | 2463/200676 [1:08:22<326:15:14,  5.93s/it]"
     ]
    },
    {
     "name": "stdout",
     "output_type": "stream",
     "text": [
      "Translation failed for post: {'cnt_retweet': '0', 'cont_languages': 'zh-cn', 'publish_time': '20231016201859', 'page_action_type': '07', 'cnt_agree': '2', 'nickname': '快兰斯24小时财经直播2', 'topic_id': '4957563630650893', 'userid': '6450367173', 'cnt_comment': '0', 'content': '实时播报：★★【俄罗斯宣布决定对自日本进口水产品实施限制，日方急忙回应】俄罗斯16日宣布已决定对自日本进口鱼类等水产品实施限制，作为“预防性措施”。据日本共同社最新报道，俄方上述决定引起日方“强烈反对”。日本近期不顾国际社会强烈反对执意启动福岛第一核电站核污染水排海，包括日本在内多 \\u200b\\u200b\\u200b', 'url': 'https://m.weibo.cn/status/4957563630650893', 'username': '快兰斯24小时财经直播2'}, Error: Expecting value: line 1 column 1 (char 0)\n"
     ]
    },
    {
     "name": "stderr",
     "output_type": "stream",
     "text": [
      "  1%|          | 2464/200676 [1:08:29<335:59:30,  6.10s/it]"
     ]
    },
    {
     "name": "stdout",
     "output_type": "stream",
     "text": [
      "Translation failed for post: {'cnt_retweet': '0', 'cont_languages': 'zh-cn', 'publish_time': '20231016200450', 'page_action_type': '07', 'cnt_agree': '0', 'nickname': '寻梦自然', 'topic_id': '4957560068379188', 'userid': '3533603800', 'cnt_comment': '0', 'content': '#日本要求俄撤销限制进口日本水产品决定# 【俄罗斯宣布决定对自日本进口水产品实施限制，日方急忙回应】俄罗斯16日宣布已决定对自日本进口鱼类等水产品实施限制，作为“预防性措施”。据日本共同社最新报道，俄方上述决定引起日方“强烈反对”。日本近期不顾国际社会强烈反对执意启动福岛第一核电站核 \\u200b\\u200b\\u200b', 'url': 'https://m.weibo.cn/status/4957560068379188', 'username': '寻梦自然'}, Error: Expecting value: line 1 column 1 (char 0)\n"
     ]
    },
    {
     "name": "stderr",
     "output_type": "stream",
     "text": [
      "  1%|          | 2465/200676 [1:08:35<341:05:32,  6.20s/it]"
     ]
    },
    {
     "name": "stdout",
     "output_type": "stream",
     "text": [
      "Translation failed for post: {'cnt_retweet': '0', 'cont_languages': 'zh-cn', 'page_action_type': '07', 'userid': '1259295385', 'content': '#日方强烈要求俄罗斯撤销限制#【俄罗斯宣布决定对自日本进口水产品实施限制，日方急忙回应】据环球网 俄罗斯16日宣布已决定对自日本进口鱼类等水产品实施限制，作为“预防性措施”。据日本共同社最新报道，俄方上述决定引起日方“强烈反对”。日本近期不顾国际社会强烈反对执意启动福岛第一核电站核污 \\u200b\\u200b\\u200b', 'url': 'https://m.weibo.cn/status/4957563176361195', 'page_picture_path': 'https://wx4.sinaimg.cn/wap180/001ndSfTly8hixcsbkojcj60kq0duabg02.jpg', 'publish_time': '20231016201711', 'cnt_agree': '0', 'nickname': '新浪博客', 'topic_id': '4957563176361195', 'cnt_comment': '0', 'username': '新浪博客'}, Error: Expecting value: line 1 column 1 (char 0)\n"
     ]
    },
    {
     "name": "stderr",
     "output_type": "stream",
     "text": [
      "  1%|          | 2466/200676 [1:08:42<344:30:31,  6.26s/it]"
     ]
    },
    {
     "name": "stdout",
     "output_type": "stream",
     "text": [
      "Translation failed for post: {'cnt_retweet': '0', 'cont_languages': 'zh-cn', 'publish_time': '20231016120001', 'page_action_type': '07', 'cnt_agree': '30', 'nickname': '今日俄罗斯RT', 'topic_id': '4957438060790158', 'userid': '6244553417', 'cnt_comment': '11', 'content': '【#日本已向俄方提交核污染水排放的补充数据#】10月16日，日本外务省表示，根据俄罗斯农业监督局的要求，日本已向俄罗斯提供了有关福岛第一核电站核污染水排放的补充数据。 日方表示，将继续“透明和诚实地”向俄罗斯提供基于科学数据的解释，同时也接受国际原子能机构的评估。 9月26日，俄罗斯农业 \\u200b\\u200b\\u200b', 'url': 'https://m.weibo.cn/status/4957438060790158', 'username': '今日俄罗斯RT'}, Error: Expecting value: line 1 column 1 (char 0)\n"
     ]
    },
    {
     "name": "stderr",
     "output_type": "stream",
     "text": [
      "  1%|          | 2467/200676 [1:08:48<346:52:13,  6.30s/it]"
     ]
    },
    {
     "name": "stdout",
     "output_type": "stream",
     "text": [
      "Translation failed for post: {'cnt_retweet': '0', 'cont_languages': 'zh-cn', 'page_action_type': '07', 'userid': '3921730119', 'content': '#日本明年将在越南和泰国推广福岛水产品#【日本复兴相：明年将在越南和泰国推广福岛水产品】福岛第一核电站的第二轮核污染水排海正在进行，日本复兴相土屋品子13日表示，为了更好地应对排海带来的“风评”问题，复兴厅明年将分别在越南和泰国推广福岛水产品，着力海外市场，通过举办活动和展览会等方式 \\u200b\\u200b\\u200b', 'url': 'https://m.weibo.cn/status/4956876259461515', 'page_picture_path': 'https://wx4.sinaimg.cn/wap180/004hpb9Bly8hiv6head96j61910u00xo02.jpg', 'publish_time': '20231014224737', 'cnt_agree': '1', 'nickname': '新浪资讯台', 'topic_id': '4956876259461515', 'cnt_comment': '0', 'username': '新浪资讯台'}, Error: Expecting value: line 1 column 1 (char 0)\n"
     ]
    },
    {
     "name": "stderr",
     "output_type": "stream",
     "text": [
      "  1%|          | 2468/200676 [1:08:55<348:44:27,  6.33s/it]"
     ]
    },
    {
     "name": "stdout",
     "output_type": "stream",
     "text": [
      "Translation failed for post: {'cnt_retweet': '1', 'cont_languages': 'zh-cn', 'page_action_type': '07', 'userid': '1667942985', 'content': '【日本复兴相：#日本将在越南和泰国推广福岛水产品#】福岛第一核电站的第二轮核污染水排海正在进行，日本复兴相土屋品子13日表示，为了更好地应对排海带来的“风评”问题，复兴厅明年将分别在越南和泰国推广福岛水产品，着力海外市场，通过举办活动和展览会等方式销售福岛水产。土屋品子表示，今年越南 \\u200b\\u200b\\u200b', 'url': 'https://m.weibo.cn/status/4956769907902630', 'page_picture_path': 'https://wx4.sinaimg.cn/wap180/636aca49ly1hiuu9tu6qyj21410qogpz.jpg', 'publish_time': '20231014154501', 'cnt_agree': '0', 'nickname': '长三角之声', 'topic_id': '4956769907902630', 'cnt_comment': '0', 'username': '长三角之声'}, Error: Expecting value: line 1 column 1 (char 0)\n"
     ]
    },
    {
     "name": "stderr",
     "output_type": "stream",
     "text": [
      "  1%|          | 2469/200676 [1:09:01<350:05:56,  6.36s/it]"
     ]
    },
    {
     "name": "stdout",
     "output_type": "stream",
     "text": [
      "Translation failed for post: {'cnt_retweet': '0', 'cont_languages': 'zh-cn', 'page_action_type': '07', 'userid': '7567711638', 'content': '【日本复兴相：明年将在越南和泰国推广福岛水产品】#日本将在越南和泰国推广福岛水产品#福岛第一核电站的第二轮核污染水排海正在进行，日本复兴相土屋品子13日表示，为了更好地应对排海带来的“风评”问题，复兴厅明年将分别在越南和泰国推广福岛水产品，着力海外市场，通过举办活动和展览会等方式销售 \\u200b\\u200b\\u200b', 'url': 'https://m.weibo.cn/status/4956774320570903', 'page_picture_path': 'https://wx4.sinaimg.cn/wap180/008g9lv8ly1hiuus0gqopj31jk1111av.jpg', 'publish_time': '20231014160233', 'cnt_agree': '0', 'nickname': '京津冀之声FM1006', 'topic_id': '4956774320570903', 'cnt_comment': '0', 'username': '京津冀之声FM1006'}, Error: Expecting value: line 1 column 1 (char 0)\n"
     ]
    },
    {
     "name": "stderr",
     "output_type": "stream",
     "text": [
      "  1%|          | 2470/200676 [1:09:07<353:16:10,  6.42s/it]"
     ]
    },
    {
     "name": "stdout",
     "output_type": "stream",
     "text": [
      "Translation failed for post: {'cnt_retweet': '0', 'cont_languages': 'zh-cn', 'page_action_type': '07', 'userid': '1712686623', 'content': '#日本将在越南泰国推广福岛水产品#【日本复兴相：#日本明年将在越南泰国推广福岛水产品#】据澎湃新闻 福岛第一核电站的第二轮核污染水排海正在进行，日本复兴相土屋品子13日表示，为了更好地应对排海带来的“风评”问题，复兴厅明年将分别在越南和泰国推广福岛水产品，着力海外市场，通过举办活动和展 \\u200b\\u200b\\u200b', 'url': 'https://m.weibo.cn/status/4956762405604683', 'page_picture_path': 'https://wx4.sinaimg.cn/wap180/001RUg1Nly8hiutcy27buj61910u043l02.jpg', 'publish_time': '20231014151512', 'cnt_agree': '2', 'nickname': '手机上的新浪', 'topic_id': '4956762405604683', 'cnt_comment': '0', 'username': '手机上的新浪'}, Error: Expecting value: line 1 column 1 (char 0)\n"
     ]
    },
    {
     "name": "stderr",
     "output_type": "stream",
     "text": [
      "  1%|          | 2471/200676 [1:09:14<353:18:08,  6.42s/it]"
     ]
    },
    {
     "name": "stdout",
     "output_type": "stream",
     "text": [
      "Translation failed for post: {'cnt_retweet': '0', 'cont_languages': 'zh-cn', 'publish_time': '20231014151513', 'page_action_type': '07', 'topic_id': '4956762408747250', 'userid': '1259295385', 'cnt_comment': '0', 'content': '#日本将在越南泰国推广福岛水产品#【日本复兴相：#日本明年将在越南泰国推广福岛水产品#】据澎湃新闻 福岛第一核电站的第二轮核污染水排海正在进行，日本复兴相土屋品子13日表示，为了更好地应对排海带来的“风评”问题，复兴厅明年将分别在越南和泰国推广福岛水产品，着力海外市场，通过举办活动和展览会等方式销售福岛水产。\\n\\n在今年9月日本内阁改组中新上任的复兴相土屋品子13日在接受媒体采访时表示，今年越南已经开通了飞往福岛的包机航班，明年2月将在越南举办活动，宣传 “三陆、常磐水产”（产自岩手、宫城、福岛、茨城的水产品”，并且宣传核污染水排海的所谓科学安全性。此外，类似活动明年还将在泰国举办。土屋表示，将致力于海外市场的销售，在主要消费地区举办活动和展览会，有效地宣传包括福岛县在内的东北地区的产品和地区魅力。\\n\\n日本政府和东京电力公司于8月24日启动了核污染水排海， 9月11日首轮排海作业结束，总计向太平洋排出7788吨核污水。10月5日，核污染水第二轮排海开始，按照东电此前公布的计划，第二轮计划排海的核污染水总量约为7800吨，排放周期预计为17天。8月24日，中国海关总署发布公告，为全面防范日本福岛核污染水排海对食品安全造成的放射性污染风险，保护中国消费者健康，确保进口食品安全，自2023年8月24日起全面暂停进口原产地为日本的水产品（含食用水生动物）。', 'url': 'https://m.weibo.cn/status/4956762408747250', 'username': '新浪博客'}, Error: Expecting value: line 1 column 1 (char 0)\n"
     ]
    },
    {
     "name": "stderr",
     "output_type": "stream",
     "text": [
      "  1%|          | 2472/200676 [1:09:20<352:59:47,  6.41s/it]"
     ]
    },
    {
     "name": "stdout",
     "output_type": "stream",
     "text": [
      "Translation failed for post: {'cnt_retweet': '8', 'cont_languages': 'zh-cn', 'publish_time': '20231015134606', 'page_action_type': '07', 'cnt_agree': '42', 'nickname': '新浪财经', 'topic_id': '4957102370719297', 'userid': '1638782947', 'cnt_comment': '23', 'content': '【#日本明年将在越南泰国推广福岛水产品#】 福岛第一核电站的第二轮核污染水排海正在进行，日本复兴相土屋品子10月13日表示，为了更好地应对排海带来的“风评”问题，复兴厅明年将分别在越南和泰国推广福岛水产品，着力海外市场，通过举办活动和展览会等方式销售福岛水产。土屋表示，将致力于海外市场 \\u200b\\u200b\\u200b', 'url': 'https://m.weibo.cn/status/4957102370719297', 'username': '新浪财经'}, Error: Expecting value: line 1 column 1 (char 0)\n"
     ]
    },
    {
     "name": "stderr",
     "output_type": "stream",
     "text": [
      "  1%|          | 2473/200676 [1:09:27<352:53:46,  6.41s/it]"
     ]
    },
    {
     "name": "stdout",
     "output_type": "stream",
     "text": [
      "Translation failed for post: {'cnt_retweet': '3', 'cont_languages': 'zh-cn', 'publish_time': '20231015164654', 'page_action_type': '07', 'cnt_agree': '0', 'nickname': '财经早餐', 'topic_id': '4957147869744546', 'userid': '1402901591', 'cnt_comment': '2', 'content': '【#日本福岛海水样本第二次被检出氚# 且浓度显著增高】#东电称检出氚的福岛海水安全#日本于10月5日启动第二轮福岛核污染水排海，第二轮排放之后，第二次被检验出氚。中国呼吁立即建立日本核污染水的长期有效国际监测安排。根据东电在10月7日发布的消息，在福岛第一核电站核污水排放口附近取样的海水中，验出放射性物质氚浓度为每升9.4贝克勒尔，但东电却继续辩称“安全上没有问题”。这是继8月31日采集的样本后，福岛核污水样本第二次被检验出氚。 http://t.cn/A6WZp4si', 'url': 'https://m.weibo.cn/status/4957147869744546', 'username': '财经早餐'}, Error: Expecting value: line 1 column 1 (char 0)\n"
     ]
    },
    {
     "name": "stderr",
     "output_type": "stream",
     "text": [
      "  1%|          | 2474/200676 [1:09:33<353:04:30,  6.41s/it]"
     ]
    },
    {
     "name": "stdout",
     "output_type": "stream",
     "text": [
      "Translation failed for post: {'cnt_retweet': '27', 'cont_languages': 'zh-cn', 'publish_time': '20231015163000', 'page_action_type': '07', 'cnt_agree': '0', 'nickname': '凤凰卫视', 'topic_id': '4957143615933671', 'userid': '1643971635', 'cnt_comment': '8', 'content': '#风云对话#【日本核能专家：日本“排污入海”并未遵循最小风险原则】10月5日，日本东京电力公司福岛第一核电站核污染水第二轮排海开始。尽管排海决定遭到日本国内外强烈反对，日本政府和东电仍于8月24日启动了核污染水的排海。本期《风云对话》朱梓橦专访日本原子力资料情报室核能专家斯特内尔，就核污水话题展开此次对话。斯特内尔表示，ALPS不能完全去除水中的放射性核素，而氚与其他分子有机结合会通过食物系统传播，从而导致身体损害。她认为没有什么是百分之百安全的，但日本进行“排污入海”这一举动，并未遵循最小风险原则。戳视频—— http://t.cn/A6W2cAJR', 'url': 'https://m.weibo.cn/status/4957143615933671', 'username': '凤凰卫视'}, Error: Expecting value: line 1 column 1 (char 0)\n"
     ]
    },
    {
     "name": "stderr",
     "output_type": "stream",
     "text": [
      "  1%|          | 2475/200676 [1:09:40<353:06:02,  6.41s/it]"
     ]
    },
    {
     "name": "stdout",
     "output_type": "stream",
     "text": [
      "Translation failed for post: {'cnt_retweet': '0', 'cont_languages': 'zh-cn', 'publish_time': '20231015134632', 'page_action_type': '07', 'cnt_agree': '4', 'nickname': '新浪科技', 'topic_id': '4957102477938201', 'userid': '1642634100', 'cnt_comment': '3', 'content': '【#日本明年将在越南泰国推广福岛水产品#】 福岛第一核电站的第二轮核污染水排海正在进行，日本复兴相土屋品子10月13日表示，为了更好地应对排海带来的“风评”问题，复兴厅明年将分别在越南和泰国推广福岛水产品，着力海外市场，通过举办活动和展览会等方式销售福岛水产。土屋表示，将致力于海外市场 \\u200b\\u200b\\u200b', 'url': 'https://m.weibo.cn/status/4957102477938201', 'username': '新浪科技'}, Error: Expecting value: line 1 column 1 (char 0)\n"
     ]
    },
    {
     "name": "stderr",
     "output_type": "stream",
     "text": [
      "  1%|          | 2476/200676 [1:09:47<369:43:59,  6.72s/it]"
     ]
    },
    {
     "name": "stdout",
     "output_type": "stream",
     "text": [
      "Translation failed for post: {'cnt_retweet': '0', 'cont_languages': 'zh-cn', 'publish_time': '20231007075843', 'page_action_type': '07', 'cnt_agree': '0', 'nickname': '黔东南新闻网官方微博', 'topic_id': '4954115845653626', 'userid': '2659523842', 'cnt_comment': '0', 'content': '【#日本海鲜滞销堆积成山##日本官员呼吁民众每人多吃5只扇贝#】当地时间昨天（5日）上午，日本东京电力公司启动福岛第一核电站核污染水的第二轮排海。自从福岛核污染水排放入海以来，日本水产品出口严重受阻，据日媒报道，部分水产加工企业的仓库内，扇贝等水产品即将堆到大约8米高的天花板。面对库存 \\u200b\\u200b\\u200b', 'url': 'https://m.weibo.cn/status/4954115845653626', 'username': '黔东南新闻网官方微博'}, Error: Expecting value: line 1 column 1 (char 0)\n"
     ]
    },
    {
     "name": "stderr",
     "output_type": "stream",
     "text": [
      "  1%|          | 2477/200676 [1:09:53<365:23:54,  6.64s/it]"
     ]
    },
    {
     "name": "stdout",
     "output_type": "stream",
     "text": [
      "Translation failed for post: {'cnt_retweet': '0', 'cont_languages': 'zh-cn', 'publish_time': '20231013231922', 'page_action_type': '07', 'cnt_agree': '0', 'nickname': '陇南文县司法', 'topic_id': '4956521860958007', 'userid': '3934655366', 'cnt_comment': '0', 'content': '【#日本福岛海水样本第二次被检出氚# 且浓度显著增高】#东电称检出氚的福岛海水安全#日本于10月5日启动第二轮福岛核污染水排海，第二轮排放之后，第二次被检验出氚。中国呼吁立即建立日本核污染水的长期有效国际监测安排。根据东电在10月7日发布的消息，在福岛第一核电站核污水排放口附近取样的海水中 \\u200b\\u200b\\u200b', 'url': 'https://m.weibo.cn/status/4956521860958007', 'username': '陇南文县司法'}, Error: Expecting value: line 1 column 1 (char 0)\n"
     ]
    },
    {
     "name": "stderr",
     "output_type": "stream",
     "text": [
      "  1%|          | 2478/200676 [1:10:00<362:37:23,  6.59s/it]"
     ]
    },
    {
     "name": "stdout",
     "output_type": "stream",
     "text": [
      "Translation failed for post: {'cnt_retweet': '0', 'cont_languages': 'zh-cn', 'publish_time': '20231005100448', 'page_action_type': '07', 'cnt_agree': '0', 'nickname': '律师宫业星', 'topic_id': '4953422798524974', 'userid': '1297870702', 'cnt_comment': '0', 'content': '东京电力公司计划于当地时间5日上午10点半（北京时间5日上午9点半）开始进行福岛第一核电站核污染水第二轮排海。小日本军国主义害苦了世界人民，现在小日本又用核污水危害世界人民，各族人民和世界人民发出更强烈的声音：反对日本危害世界人民。消灭小日本。', 'url': 'https://m.weibo.cn/status/4953422798524974', 'username': '律师宫业星'}, Error: Expecting value: line 1 column 1 (char 0)\n"
     ]
    },
    {
     "name": "stderr",
     "output_type": "stream",
     "text": [
      "  1%|          | 2479/200676 [1:10:10<426:50:34,  7.75s/it]"
     ]
    },
    {
     "name": "stdout",
     "output_type": "stream",
     "text": [
      "Translation failed for post: {'cnt_retweet': '0', 'cont_languages': 'zh-cn', 'page_action_type': '07', 'userid': '1231759973', 'content': '#日本将在越南泰国推广福岛水产品#【日本复兴相：#日本明年将在越南泰国推广福岛水产品#】据澎湃新闻 福岛第一核电站的第二轮核污染水排海正在进行，日本复兴相土屋品子13日表示，为了更好地应对排海带来的“风评”问题，复兴厅明年将分别在越南和泰国推广福岛水产品，着力海外市场，通过举办活动和展 \\u200b\\u200b\\u200b', 'url': 'https://m.weibo.cn/status/4956802712602755', 'page_picture_path': 'https://wx4.sinaimg.cn/wap180/001lml2lly8hiuxa8m5bsj60j60csjsb02.jpg', 'publish_time': '20231014175522', 'cnt_agree': '0', 'nickname': '新浪新知', 'topic_id': '4956802712602755', 'cnt_comment': '0', 'username': '新浪新知'}, Error: Expecting value: line 1 column 1 (char 0)\n"
     ]
    },
    {
     "name": "stderr",
     "output_type": "stream",
     "text": [
      "  1%|          | 2480/200676 [1:10:15<381:33:52,  6.93s/it]"
     ]
    },
    {
     "name": "stdout",
     "output_type": "stream",
     "text": [
      "Translation failed for post: {'cnt_retweet': '66', 'cont_languages': 'zh-cn', 'page_action_type': '07', 'userid': '2028810631', 'content': '#日本将在越南泰国推广福岛水产品#【日本复兴相：#日本明年将在越南泰国推广福岛水产品#】据澎湃新闻 福岛第一核电站的第二轮核污染水排海正在进行，日本复兴相土屋品子13日表示，为了更好地应对排海带来的“风评”问题，复兴厅明年将分别在越南和泰国推广福岛水产品，着力海外市场，通过举办活动和展览会等方式销售福岛水产。\\n\\n在今年9月日本内阁改组中新上任的复兴相土屋品子13日在接受媒体采访时表示，今年越南已经开通了飞往福岛的包机航班，明年2月将在越南举办活动，宣传 “三陆、常磐水产”（产自岩手、宫城、福岛、茨城的水产品”，并且宣传核污染水排海的所谓科学安全性。此外，类似活动明年还将在泰国举办。土屋表示，将致力于海外市场的销售，在主要消费地区举办活动和展览会，有效地宣传包括福岛县在内的东北地区的产品和地区魅力。\\n\\n日本政府和东京电力公司于8月24日启动了核污染水排海， 9月11日首轮排海作业结束，总计向太平洋排出7788吨核污水。10月5日，核污染水第二轮排海开始，按照东电此前公布的计划，第二轮计划排海的核污染水总量约为7800吨，排放周期预计为17天。8月24日，中国海关总署发布公告，为全面防范日本福岛核污染水排海对食品安全造成的放射性污染风险，保护中国消费者健康，确保进口食品安全，自2023年8月24日起全面暂停进口原产地为日本的水产品（含食用水生动物）。', 'url': 'https://m.weibo.cn/status/4956762401409731', 'page_picture_path': 'https://wx4.sinaimg.cn/wap180/002diGk7ly8hiutcydvoaj61910u0af402.jpg', 'publish_time': '20231014151511', 'cnt_agree': '33', 'nickname': '新浪新闻', 'topic_id': '4956762401409731', 'cnt_comment': '121', 'username': '新浪新闻'}, Error: Expecting value: line 1 column 1 (char 0)\n"
     ]
    },
    {
     "name": "stderr",
     "output_type": "stream",
     "text": [
      "  1%|          | 2481/200676 [1:10:25<422:49:38,  7.68s/it]"
     ]
    },
    {
     "name": "stdout",
     "output_type": "stream",
     "text": [
      "Translation failed for post: {'cnt_retweet': '8', 'cont_languages': 'zh-cn', 'publish_time': '20231014174357', 'page_action_type': '07', 'cnt_agree': '1461', 'nickname': '新浪新闻', 'topic_id': '4956799838720510', 'userid': '2028810631', 'cnt_comment': '31', 'content': '#日本将在越南泰国推广福岛水产品# 据澎湃新闻 福岛第一核电站的第二轮核污染水排海正在进行，日本复兴相土屋品子13日表示，为了更好地应对排海带来的“风评”问题，复兴厅明年将分别在越南和泰国推广福岛水产品，着力海外市场，通过举办活动和展览会等方式销售福岛水产。 \\u200b\\u200b\\u200b', 'url': 'https://m.weibo.cn/status/4956799838720510', 'username': '新浪新闻'}, Error: Expecting value: line 1 column 1 (char 0)\n"
     ]
    },
    {
     "name": "stderr",
     "output_type": "stream",
     "text": [
      "  1%|          | 2482/200676 [1:10:31<402:07:56,  7.30s/it]"
     ]
    },
    {
     "name": "stdout",
     "output_type": "stream",
     "text": [
      "Translation failed for post: {'cnt_retweet': '0', 'cont_languages': 'zh-cn', 'page_action_type': '07', 'userid': '1879476167', 'content': '【#日本开始准备核污染水第二轮排海#】据共同社报道，日本东京电力公司今天（3日）开始进行福岛第一核电站核污染水第二轮排海前准备工作，测定即将排入海洋的核污染水中的氚浓度，如果浓度符合其所谓的“标准”，将从本月5日正式开始第二轮核污染水排海。第二轮排海计划排放量约为7800吨，排放周期约17 \\u200b\\u200b\\u200b', 'url': 'https://m.weibo.cn/status/4952704458424665', 'page_picture_path': 'https://wx4.sinaimg.cn/wap180/700687c7ly1hihvcsu8m2j20sg0i8130.jpg', 'publish_time': '20231003103021', 'cnt_agree': '1', 'nickname': '看度新闻', 'topic_id': '4952704458424665', 'cnt_comment': '0', 'username': '看度新闻'}, Error: Expecting value: line 1 column 1 (char 0)\n"
     ]
    },
    {
     "name": "stderr",
     "output_type": "stream",
     "text": [
      "  1%|          | 2483/200676 [1:10:38<387:15:44,  7.03s/it]"
     ]
    },
    {
     "name": "stdout",
     "output_type": "stream",
     "text": [
      "Translation failed for post: {'cnt_retweet': '0', 'cont_languages': 'zh-cn', 'page_action_type': '07', 'userid': '1618051664', 'content': '【#日方回应俄决定限制进口日本水产品#】#日方要求俄撤销限制进口日本水产品决定# 据环球网报道：俄罗斯16日宣布已决定对自日本进口鱼类等水产品实施限制，作为“预防性措施”。据日本共同社最新报道，俄方上述决定引起日方“强烈反对”。日本近期不顾国际社会强烈反对执意启动福岛第一核电站核污染水 \\u200b\\u200b\\u200b', 'url': 'https://m.weibo.cn/status/4957559149825867', 'page_picture_path': 'https://wx4.sinaimg.cn/wap180/001Lvb9uly8hixcvhl7hqj60jg0czgmy02.jpg', 'publish_time': '20231016200111', 'cnt_agree': '20', 'nickname': '头条新闻', 'topic_id': '4957559149825867', 'cnt_comment': '6', 'username': '头条新闻'}, Error: Expecting value: line 1 column 1 (char 0)\n"
     ]
    },
    {
     "name": "stderr",
     "output_type": "stream",
     "text": [
      "  1%|          | 2484/200676 [1:10:44<376:56:43,  6.85s/it]"
     ]
    },
    {
     "name": "stdout",
     "output_type": "stream",
     "text": [
      "Translation failed for post: {'cnt_retweet': '0', 'cont_languages': 'zh-cn', 'page_action_type': '07', 'userid': '1778758223', 'content': '#日方强烈要求俄罗斯撤销限制#【俄罗斯宣布决定对自日本进口水产品实施限制，日方急忙回应】据环球网 俄罗斯16日宣布已决定对自日本进口鱼类等水产品实施限制，作为“预防性措施”。据日本共同社最新报道，俄方上述决定引起日方“强烈反对”。日本近期不顾国际社会强烈反对执意启动福岛第一核电站核污 \\u200b\\u200b\\u200b', 'url': 'https://m.weibo.cn/status/4957563177667812', 'page_picture_path': 'https://wx4.sinaimg.cn/wap180/001WnugLly8hixcsbl4c8j60kq0duabg02.jpg', 'publish_time': '20231016201711', 'cnt_agree': '1', 'nickname': '新浪看点', 'topic_id': '4957563177667812', 'cnt_comment': '0', 'username': '新浪看点'}, Error: Expecting value: line 1 column 1 (char 0)\n"
     ]
    },
    {
     "name": "stderr",
     "output_type": "stream",
     "text": [
      "  1%|          | 2485/200676 [1:10:50<369:56:35,  6.72s/it]"
     ]
    },
    {
     "name": "stdout",
     "output_type": "stream",
     "text": [
      "Translation failed for post: {'cnt_retweet': '3', 'cont_languages': 'zh-cn', 'publish_time': '20231018191531', 'page_action_type': '07', 'cnt_agree': '36', 'nickname': '今日俄罗斯RT', 'topic_id': '4958272434736442', 'userid': '6244553417', 'cnt_comment': '4', 'content': '【#街头采访#｜日本开始第二轮福岛核污水排海计划，#俄罗斯人怎么看#】当地时间10月5日1，日本东京电力公司福岛第一核电站核污染水第二轮排海开始。对此，俄罗斯人有什么看法呢？让我们去问问他们的意见！ 今日俄罗斯RT的微博视频', 'url': 'https://m.weibo.cn/status/4958272434736442', 'username': '今日俄罗斯RT'}, Error: Expecting value: line 1 column 1 (char 0)\n"
     ]
    },
    {
     "name": "stderr",
     "output_type": "stream",
     "text": [
      "  1%|          | 2486/200676 [1:10:57<364:43:17,  6.62s/it]"
     ]
    },
    {
     "name": "stdout",
     "output_type": "stream",
     "text": [
      "Translation failed for post: {'cnt_retweet': '0', 'cont_languages': 'zh-cn', 'publish_time': '20231031124627', 'page_action_type': '07', 'cnt_agree': '0', 'nickname': '看看新闻KNEWS', 'topic_id': '4962885563581577', 'userid': '1845864154', 'cnt_comment': '0', 'content': '【#福岛核污染水溅射总量或达数升# 远超出此前推算值】据日本广播协会（NHK）10月30日报道，日本东京电力公司当天称，福岛第一核电站本月25日发生的放射性废液溅射污染事件中，喷溅出的废液总量据新的推算在数升左右，而此前的推算为100毫升左右。新的推算值较此前高出数十倍。25日，在处理福岛第一核电站核污染水放射性物质的过程中，由于水管脱落导致放射性废液溅出，5名工作人员接触到了放射性废液。其中2人因身体表面的辐射量一直没有降低到安全标准值以下，一度被送往医院进行处理。 http://t.cn/A6WXUHwO', 'url': 'https://m.weibo.cn/status/4962885563581577', 'username': '看看新闻KNEWS'}, Error: Expecting value: line 1 column 1 (char 0)\n"
     ]
    },
    {
     "name": "stderr",
     "output_type": "stream",
     "text": [
      "  1%|          | 2487/200676 [1:11:03<364:55:05,  6.63s/it]"
     ]
    },
    {
     "name": "stdout",
     "output_type": "stream",
     "text": [
      "Translation failed for post: {'cnt_retweet': '0', 'cont_languages': 'zh-cn', 'page_action_type': '07', 'userid': '2292896411', 'content': '【#福岛核污染水溅射总量预计达数升#】据日本广播协会（NHK）10月30日报道，日本东京电力公司当天称，福岛第一核电站本月25日发生的放射性废液溅射污染事件中，喷溅出的废液总量据新的推算在数升左右，而此前的推算为100毫升左右。新的推算值较此前高出数十倍。25日，在处理福岛第一核电站核污染水放射性物质的过程中，由于水管脱落导致放射性废液溅出，5名工作人员接触到了放射性废液。其中2人因身体表面的辐射量一直没有降低到安全标准值以下，一度被送往医院进行处理。（央视新闻客户端）', 'url': 'https://m.weibo.cn/status/4962665976039069', 'page_picture_path': 'https://wx4.sinaimg.cn/wap180/88aad29bly1hjdnfbr5wwj20g80d4dio.jpg', 'publish_time': '20231030221353', 'cnt_agree': '2', 'nickname': '中工网', 'topic_id': '4962665976039069', 'cnt_comment': '0', 'username': '中工网'}, Error: Expecting value: line 1 column 1 (char 0)\n"
     ]
    },
    {
     "name": "stderr",
     "output_type": "stream",
     "text": [
      "  1%|▏         | 2555/200676 [1:12:32<71:42:44,  1.30s/it] "
     ]
    },
    {
     "name": "stdout",
     "output_type": "stream",
     "text": [
      "Translation failed for post: {'cnt_retweet': '0', 'cont_languages': 'zh-cn', 'page_action_type': '11', 'relevant_username': '秋名山街猫', 'userid': '5911198285', 'content': '鉴于日本东海岸约1,000个水箱中储存着大量放射性水，整个过程预计需要三十到四十年的时间。 岸田承诺，只有在不对人类健康和环境造成危害的情况下，才会向海洋释放废水。 RT:@秋名山街猫 国际原子能机构(IAEA)最终认可了日本将受损的福岛第一核电站处理后的核废水排入太平洋的计划。 国际原子能机构批准福岛废水排放计划，东亚各国密切关注', 'url': 'https://m.weibo.cn/status/4920146798053249', 'relevant_nickname': '秋名山街猫', 'relevant_userid': '7476360648', 'publish_time': '20230705141751', 'cnt_agree': '3', 'nickname': 'Countrycat', 'topic_id': '4920146798053249', 'cnt_comment': '1', 'username': 'Countrycat'}, Error: Expecting value: line 1 column 1 (char 0)\n"
     ]
    },
    {
     "name": "stderr",
     "output_type": "stream",
     "text": [
      "  2%|▏         | 3570/200676 [1:35:17<87:41:40,  1.60s/it] \n"
     ]
    },
    {
     "ename": "KeyboardInterrupt",
     "evalue": "",
     "output_type": "error",
     "traceback": [
      "\u001b[1;31m---------------------------------------------------------------------------\u001b[0m",
      "\u001b[1;31mKeyboardInterrupt\u001b[0m                         Traceback (most recent call last)",
      "Cell \u001b[1;32mIn[30], line 15\u001b[0m\n\u001b[0;32m     13\u001b[0m \u001b[38;5;28;01mfor\u001b[39;00m post \u001b[38;5;129;01min\u001b[39;00m tqdm(post_all_data):\n\u001b[0;32m     14\u001b[0m     \u001b[38;5;28;01mtry\u001b[39;00m:\n\u001b[1;32m---> 15\u001b[0m         translated_content, success \u001b[38;5;241m=\u001b[39m \u001b[43mbaidu_translate\u001b[49m\u001b[43m(\u001b[49m\u001b[43mpost\u001b[49m\u001b[43m[\u001b[49m\u001b[38;5;124;43m'\u001b[39;49m\u001b[38;5;124;43mcontent\u001b[39;49m\u001b[38;5;124;43m'\u001b[39;49m\u001b[43m]\u001b[49m\u001b[43m,\u001b[49m\u001b[43m \u001b[49m\u001b[43mfrom_lang\u001b[49m\u001b[38;5;241;43m=\u001b[39;49m\u001b[38;5;124;43m'\u001b[39;49m\u001b[38;5;124;43mzh\u001b[39;49m\u001b[38;5;124;43m'\u001b[39;49m\u001b[43m,\u001b[49m\u001b[43m \u001b[49m\u001b[43mto_lang\u001b[49m\u001b[38;5;241;43m=\u001b[39;49m\u001b[38;5;124;43m'\u001b[39;49m\u001b[38;5;124;43men\u001b[39;49m\u001b[38;5;124;43m'\u001b[39;49m\u001b[43m)\u001b[49m\n\u001b[0;32m     16\u001b[0m         \u001b[38;5;28;01mif\u001b[39;00m success:\n\u001b[0;32m     17\u001b[0m             post[\u001b[38;5;124m'\u001b[39m\u001b[38;5;124mcontent_trans\u001b[39m\u001b[38;5;124m'\u001b[39m] \u001b[38;5;241m=\u001b[39m translated_content\n",
      "Cell \u001b[1;32mIn[8], line 25\u001b[0m, in \u001b[0;36mbaidu_translate\u001b[1;34m(query, from_lang, to_lang)\u001b[0m\n\u001b[0;32m     23\u001b[0m payload \u001b[38;5;241m=\u001b[39m {\u001b[38;5;124m'\u001b[39m\u001b[38;5;124mappid\u001b[39m\u001b[38;5;124m'\u001b[39m: appid, \u001b[38;5;124m'\u001b[39m\u001b[38;5;124mq\u001b[39m\u001b[38;5;124m'\u001b[39m: query, \u001b[38;5;124m'\u001b[39m\u001b[38;5;124mfrom\u001b[39m\u001b[38;5;124m'\u001b[39m: from_lang, \u001b[38;5;124m'\u001b[39m\u001b[38;5;124mto\u001b[39m\u001b[38;5;124m'\u001b[39m: to_lang, \u001b[38;5;124m'\u001b[39m\u001b[38;5;124msalt\u001b[39m\u001b[38;5;124m'\u001b[39m: salt, \u001b[38;5;124m'\u001b[39m\u001b[38;5;124msign\u001b[39m\u001b[38;5;124m'\u001b[39m: sign}\n\u001b[0;32m     24\u001b[0m \u001b[38;5;66;03m# Send request\u001b[39;00m\n\u001b[1;32m---> 25\u001b[0m r \u001b[38;5;241m=\u001b[39m \u001b[43mrequests\u001b[49m\u001b[38;5;241;43m.\u001b[39;49m\u001b[43mpost\u001b[49m\u001b[43m(\u001b[49m\u001b[43murl\u001b[49m\u001b[43m,\u001b[49m\u001b[43m \u001b[49m\u001b[43mparams\u001b[49m\u001b[38;5;241;43m=\u001b[39;49m\u001b[43mpayload\u001b[49m\u001b[43m,\u001b[49m\u001b[43m \u001b[49m\u001b[43mheaders\u001b[49m\u001b[38;5;241;43m=\u001b[39;49m\u001b[43mheaders\u001b[49m\u001b[43m)\u001b[49m\n\u001b[0;32m     26\u001b[0m result \u001b[38;5;241m=\u001b[39m r\u001b[38;5;241m.\u001b[39mjson()\n\u001b[0;32m     27\u001b[0m \u001b[38;5;28;01mif\u001b[39;00m \u001b[38;5;124m\"\u001b[39m\u001b[38;5;124mtrans_result\u001b[39m\u001b[38;5;124m\"\u001b[39m \u001b[38;5;129;01mnot\u001b[39;00m \u001b[38;5;129;01min\u001b[39;00m result:\n",
      "File \u001b[1;32md:\\Program\\Anaconda\\envs\\CP\\lib\\site-packages\\requests\\api.py:115\u001b[0m, in \u001b[0;36mpost\u001b[1;34m(url, data, json, **kwargs)\u001b[0m\n\u001b[0;32m    103\u001b[0m \u001b[38;5;28;01mdef\u001b[39;00m \u001b[38;5;21mpost\u001b[39m(url, data\u001b[38;5;241m=\u001b[39m\u001b[38;5;28;01mNone\u001b[39;00m, json\u001b[38;5;241m=\u001b[39m\u001b[38;5;28;01mNone\u001b[39;00m, \u001b[38;5;241m*\u001b[39m\u001b[38;5;241m*\u001b[39mkwargs):\n\u001b[0;32m    104\u001b[0m \u001b[38;5;250m    \u001b[39m\u001b[38;5;124mr\u001b[39m\u001b[38;5;124;03m\"\"\"Sends a POST request.\u001b[39;00m\n\u001b[0;32m    105\u001b[0m \n\u001b[0;32m    106\u001b[0m \u001b[38;5;124;03m    :param url: URL for the new :class:`Request` object.\u001b[39;00m\n\u001b[1;32m   (...)\u001b[0m\n\u001b[0;32m    112\u001b[0m \u001b[38;5;124;03m    :rtype: requests.Response\u001b[39;00m\n\u001b[0;32m    113\u001b[0m \u001b[38;5;124;03m    \"\"\"\u001b[39;00m\n\u001b[1;32m--> 115\u001b[0m     \u001b[38;5;28;01mreturn\u001b[39;00m request(\u001b[38;5;124m\"\u001b[39m\u001b[38;5;124mpost\u001b[39m\u001b[38;5;124m\"\u001b[39m, url, data\u001b[38;5;241m=\u001b[39mdata, json\u001b[38;5;241m=\u001b[39mjson, \u001b[38;5;241m*\u001b[39m\u001b[38;5;241m*\u001b[39mkwargs)\n",
      "File \u001b[1;32md:\\Program\\Anaconda\\envs\\CP\\lib\\site-packages\\requests\\api.py:59\u001b[0m, in \u001b[0;36mrequest\u001b[1;34m(method, url, **kwargs)\u001b[0m\n\u001b[0;32m     55\u001b[0m \u001b[38;5;66;03m# By using the 'with' statement we are sure the session is closed, thus we\u001b[39;00m\n\u001b[0;32m     56\u001b[0m \u001b[38;5;66;03m# avoid leaving sockets open which can trigger a ResourceWarning in some\u001b[39;00m\n\u001b[0;32m     57\u001b[0m \u001b[38;5;66;03m# cases, and look like a memory leak in others.\u001b[39;00m\n\u001b[0;32m     58\u001b[0m \u001b[38;5;28;01mwith\u001b[39;00m sessions\u001b[38;5;241m.\u001b[39mSession() \u001b[38;5;28;01mas\u001b[39;00m session:\n\u001b[1;32m---> 59\u001b[0m     \u001b[38;5;28;01mreturn\u001b[39;00m session\u001b[38;5;241m.\u001b[39mrequest(method\u001b[38;5;241m=\u001b[39mmethod, url\u001b[38;5;241m=\u001b[39murl, \u001b[38;5;241m*\u001b[39m\u001b[38;5;241m*\u001b[39mkwargs)\n",
      "File \u001b[1;32md:\\Program\\Anaconda\\envs\\CP\\lib\\site-packages\\requests\\sessions.py:589\u001b[0m, in \u001b[0;36mSession.request\u001b[1;34m(self, method, url, params, data, headers, cookies, files, auth, timeout, allow_redirects, proxies, hooks, stream, verify, cert, json)\u001b[0m\n\u001b[0;32m    584\u001b[0m send_kwargs \u001b[38;5;241m=\u001b[39m {\n\u001b[0;32m    585\u001b[0m     \u001b[38;5;124m\"\u001b[39m\u001b[38;5;124mtimeout\u001b[39m\u001b[38;5;124m\"\u001b[39m: timeout,\n\u001b[0;32m    586\u001b[0m     \u001b[38;5;124m\"\u001b[39m\u001b[38;5;124mallow_redirects\u001b[39m\u001b[38;5;124m\"\u001b[39m: allow_redirects,\n\u001b[0;32m    587\u001b[0m }\n\u001b[0;32m    588\u001b[0m send_kwargs\u001b[38;5;241m.\u001b[39mupdate(settings)\n\u001b[1;32m--> 589\u001b[0m resp \u001b[38;5;241m=\u001b[39m \u001b[38;5;28mself\u001b[39m\u001b[38;5;241m.\u001b[39msend(prep, \u001b[38;5;241m*\u001b[39m\u001b[38;5;241m*\u001b[39msend_kwargs)\n\u001b[0;32m    591\u001b[0m \u001b[38;5;28;01mreturn\u001b[39;00m resp\n",
      "File \u001b[1;32md:\\Program\\Anaconda\\envs\\CP\\lib\\site-packages\\requests\\sessions.py:703\u001b[0m, in \u001b[0;36mSession.send\u001b[1;34m(self, request, **kwargs)\u001b[0m\n\u001b[0;32m    700\u001b[0m start \u001b[38;5;241m=\u001b[39m preferred_clock()\n\u001b[0;32m    702\u001b[0m \u001b[38;5;66;03m# Send the request\u001b[39;00m\n\u001b[1;32m--> 703\u001b[0m r \u001b[38;5;241m=\u001b[39m adapter\u001b[38;5;241m.\u001b[39msend(request, \u001b[38;5;241m*\u001b[39m\u001b[38;5;241m*\u001b[39mkwargs)\n\u001b[0;32m    705\u001b[0m \u001b[38;5;66;03m# Total elapsed time of the request (approximately)\u001b[39;00m\n\u001b[0;32m    706\u001b[0m elapsed \u001b[38;5;241m=\u001b[39m preferred_clock() \u001b[38;5;241m-\u001b[39m start\n",
      "File \u001b[1;32md:\\Program\\Anaconda\\envs\\CP\\lib\\site-packages\\requests\\adapters.py:486\u001b[0m, in \u001b[0;36mHTTPAdapter.send\u001b[1;34m(self, request, stream, timeout, verify, cert, proxies)\u001b[0m\n\u001b[0;32m    483\u001b[0m     timeout \u001b[38;5;241m=\u001b[39m TimeoutSauce(connect\u001b[38;5;241m=\u001b[39mtimeout, read\u001b[38;5;241m=\u001b[39mtimeout)\n\u001b[0;32m    485\u001b[0m \u001b[38;5;28;01mtry\u001b[39;00m:\n\u001b[1;32m--> 486\u001b[0m     resp \u001b[38;5;241m=\u001b[39m \u001b[43mconn\u001b[49m\u001b[38;5;241;43m.\u001b[39;49m\u001b[43murlopen\u001b[49m\u001b[43m(\u001b[49m\n\u001b[0;32m    487\u001b[0m \u001b[43m        \u001b[49m\u001b[43mmethod\u001b[49m\u001b[38;5;241;43m=\u001b[39;49m\u001b[43mrequest\u001b[49m\u001b[38;5;241;43m.\u001b[39;49m\u001b[43mmethod\u001b[49m\u001b[43m,\u001b[49m\n\u001b[0;32m    488\u001b[0m \u001b[43m        \u001b[49m\u001b[43murl\u001b[49m\u001b[38;5;241;43m=\u001b[39;49m\u001b[43murl\u001b[49m\u001b[43m,\u001b[49m\n\u001b[0;32m    489\u001b[0m \u001b[43m        \u001b[49m\u001b[43mbody\u001b[49m\u001b[38;5;241;43m=\u001b[39;49m\u001b[43mrequest\u001b[49m\u001b[38;5;241;43m.\u001b[39;49m\u001b[43mbody\u001b[49m\u001b[43m,\u001b[49m\n\u001b[0;32m    490\u001b[0m \u001b[43m        \u001b[49m\u001b[43mheaders\u001b[49m\u001b[38;5;241;43m=\u001b[39;49m\u001b[43mrequest\u001b[49m\u001b[38;5;241;43m.\u001b[39;49m\u001b[43mheaders\u001b[49m\u001b[43m,\u001b[49m\n\u001b[0;32m    491\u001b[0m \u001b[43m        \u001b[49m\u001b[43mredirect\u001b[49m\u001b[38;5;241;43m=\u001b[39;49m\u001b[38;5;28;43;01mFalse\u001b[39;49;00m\u001b[43m,\u001b[49m\n\u001b[0;32m    492\u001b[0m \u001b[43m        \u001b[49m\u001b[43massert_same_host\u001b[49m\u001b[38;5;241;43m=\u001b[39;49m\u001b[38;5;28;43;01mFalse\u001b[39;49;00m\u001b[43m,\u001b[49m\n\u001b[0;32m    493\u001b[0m \u001b[43m        \u001b[49m\u001b[43mpreload_content\u001b[49m\u001b[38;5;241;43m=\u001b[39;49m\u001b[38;5;28;43;01mFalse\u001b[39;49;00m\u001b[43m,\u001b[49m\n\u001b[0;32m    494\u001b[0m \u001b[43m        \u001b[49m\u001b[43mdecode_content\u001b[49m\u001b[38;5;241;43m=\u001b[39;49m\u001b[38;5;28;43;01mFalse\u001b[39;49;00m\u001b[43m,\u001b[49m\n\u001b[0;32m    495\u001b[0m \u001b[43m        \u001b[49m\u001b[43mretries\u001b[49m\u001b[38;5;241;43m=\u001b[39;49m\u001b[38;5;28;43mself\u001b[39;49m\u001b[38;5;241;43m.\u001b[39;49m\u001b[43mmax_retries\u001b[49m\u001b[43m,\u001b[49m\n\u001b[0;32m    496\u001b[0m \u001b[43m        \u001b[49m\u001b[43mtimeout\u001b[49m\u001b[38;5;241;43m=\u001b[39;49m\u001b[43mtimeout\u001b[49m\u001b[43m,\u001b[49m\n\u001b[0;32m    497\u001b[0m \u001b[43m        \u001b[49m\u001b[43mchunked\u001b[49m\u001b[38;5;241;43m=\u001b[39;49m\u001b[43mchunked\u001b[49m\u001b[43m,\u001b[49m\n\u001b[0;32m    498\u001b[0m \u001b[43m    \u001b[49m\u001b[43m)\u001b[49m\n\u001b[0;32m    500\u001b[0m \u001b[38;5;28;01mexcept\u001b[39;00m (ProtocolError, \u001b[38;5;167;01mOSError\u001b[39;00m) \u001b[38;5;28;01mas\u001b[39;00m err:\n\u001b[0;32m    501\u001b[0m     \u001b[38;5;28;01mraise\u001b[39;00m \u001b[38;5;167;01mConnectionError\u001b[39;00m(err, request\u001b[38;5;241m=\u001b[39mrequest)\n",
      "File \u001b[1;32md:\\Program\\Anaconda\\envs\\CP\\lib\\site-packages\\urllib3\\connectionpool.py:793\u001b[0m, in \u001b[0;36mHTTPConnectionPool.urlopen\u001b[1;34m(self, method, url, body, headers, retries, redirect, assert_same_host, timeout, pool_timeout, release_conn, chunked, body_pos, preload_content, decode_content, **response_kw)\u001b[0m\n\u001b[0;32m    790\u001b[0m response_conn \u001b[38;5;241m=\u001b[39m conn \u001b[38;5;28;01mif\u001b[39;00m \u001b[38;5;129;01mnot\u001b[39;00m release_conn \u001b[38;5;28;01melse\u001b[39;00m \u001b[38;5;28;01mNone\u001b[39;00m\n\u001b[0;32m    792\u001b[0m \u001b[38;5;66;03m# Make the request on the HTTPConnection object\u001b[39;00m\n\u001b[1;32m--> 793\u001b[0m response \u001b[38;5;241m=\u001b[39m \u001b[38;5;28mself\u001b[39m\u001b[38;5;241m.\u001b[39m_make_request(\n\u001b[0;32m    794\u001b[0m     conn,\n\u001b[0;32m    795\u001b[0m     method,\n\u001b[0;32m    796\u001b[0m     url,\n\u001b[0;32m    797\u001b[0m     timeout\u001b[38;5;241m=\u001b[39mtimeout_obj,\n\u001b[0;32m    798\u001b[0m     body\u001b[38;5;241m=\u001b[39mbody,\n\u001b[0;32m    799\u001b[0m     headers\u001b[38;5;241m=\u001b[39mheaders,\n\u001b[0;32m    800\u001b[0m     chunked\u001b[38;5;241m=\u001b[39mchunked,\n\u001b[0;32m    801\u001b[0m     retries\u001b[38;5;241m=\u001b[39mretries,\n\u001b[0;32m    802\u001b[0m     response_conn\u001b[38;5;241m=\u001b[39mresponse_conn,\n\u001b[0;32m    803\u001b[0m     preload_content\u001b[38;5;241m=\u001b[39mpreload_content,\n\u001b[0;32m    804\u001b[0m     decode_content\u001b[38;5;241m=\u001b[39mdecode_content,\n\u001b[0;32m    805\u001b[0m     \u001b[38;5;241m*\u001b[39m\u001b[38;5;241m*\u001b[39mresponse_kw,\n\u001b[0;32m    806\u001b[0m )\n\u001b[0;32m    808\u001b[0m \u001b[38;5;66;03m# Everything went great!\u001b[39;00m\n\u001b[0;32m    809\u001b[0m clean_exit \u001b[38;5;241m=\u001b[39m \u001b[38;5;28;01mTrue\u001b[39;00m\n",
      "File \u001b[1;32md:\\Program\\Anaconda\\envs\\CP\\lib\\site-packages\\urllib3\\connectionpool.py:537\u001b[0m, in \u001b[0;36mHTTPConnectionPool._make_request\u001b[1;34m(self, conn, method, url, body, headers, retries, timeout, chunked, response_conn, preload_content, decode_content, enforce_content_length)\u001b[0m\n\u001b[0;32m    535\u001b[0m \u001b[38;5;66;03m# Receive the response from the server\u001b[39;00m\n\u001b[0;32m    536\u001b[0m \u001b[38;5;28;01mtry\u001b[39;00m:\n\u001b[1;32m--> 537\u001b[0m     response \u001b[38;5;241m=\u001b[39m \u001b[43mconn\u001b[49m\u001b[38;5;241;43m.\u001b[39;49m\u001b[43mgetresponse\u001b[49m\u001b[43m(\u001b[49m\u001b[43m)\u001b[49m\n\u001b[0;32m    538\u001b[0m \u001b[38;5;28;01mexcept\u001b[39;00m (BaseSSLError, \u001b[38;5;167;01mOSError\u001b[39;00m) \u001b[38;5;28;01mas\u001b[39;00m e:\n\u001b[0;32m    539\u001b[0m     \u001b[38;5;28mself\u001b[39m\u001b[38;5;241m.\u001b[39m_raise_timeout(err\u001b[38;5;241m=\u001b[39me, url\u001b[38;5;241m=\u001b[39murl, timeout_value\u001b[38;5;241m=\u001b[39mread_timeout)\n",
      "File \u001b[1;32md:\\Program\\Anaconda\\envs\\CP\\lib\\site-packages\\urllib3\\connection.py:466\u001b[0m, in \u001b[0;36mHTTPConnection.getresponse\u001b[1;34m(self)\u001b[0m\n\u001b[0;32m    463\u001b[0m \u001b[38;5;28;01mfrom\u001b[39;00m \u001b[38;5;21;01m.\u001b[39;00m\u001b[38;5;21;01mresponse\u001b[39;00m \u001b[38;5;28;01mimport\u001b[39;00m HTTPResponse\n\u001b[0;32m    465\u001b[0m \u001b[38;5;66;03m# Get the response from http.client.HTTPConnection\u001b[39;00m\n\u001b[1;32m--> 466\u001b[0m httplib_response \u001b[38;5;241m=\u001b[39m \u001b[38;5;28;43msuper\u001b[39;49m\u001b[43m(\u001b[49m\u001b[43m)\u001b[49m\u001b[38;5;241;43m.\u001b[39;49m\u001b[43mgetresponse\u001b[49m\u001b[43m(\u001b[49m\u001b[43m)\u001b[49m\n\u001b[0;32m    468\u001b[0m \u001b[38;5;28;01mtry\u001b[39;00m:\n\u001b[0;32m    469\u001b[0m     assert_header_parsing(httplib_response\u001b[38;5;241m.\u001b[39mmsg)\n",
      "File \u001b[1;32md:\\Program\\Anaconda\\envs\\CP\\lib\\http\\client.py:1347\u001b[0m, in \u001b[0;36mHTTPConnection.getresponse\u001b[1;34m(self)\u001b[0m\n\u001b[0;32m   1345\u001b[0m \u001b[38;5;28;01mtry\u001b[39;00m:\n\u001b[0;32m   1346\u001b[0m     \u001b[38;5;28;01mtry\u001b[39;00m:\n\u001b[1;32m-> 1347\u001b[0m         \u001b[43mresponse\u001b[49m\u001b[38;5;241;43m.\u001b[39;49m\u001b[43mbegin\u001b[49m\u001b[43m(\u001b[49m\u001b[43m)\u001b[49m\n\u001b[0;32m   1348\u001b[0m     \u001b[38;5;28;01mexcept\u001b[39;00m \u001b[38;5;167;01mConnectionError\u001b[39;00m:\n\u001b[0;32m   1349\u001b[0m         \u001b[38;5;28mself\u001b[39m\u001b[38;5;241m.\u001b[39mclose()\n",
      "File \u001b[1;32md:\\Program\\Anaconda\\envs\\CP\\lib\\http\\client.py:307\u001b[0m, in \u001b[0;36mHTTPResponse.begin\u001b[1;34m(self)\u001b[0m\n\u001b[0;32m    305\u001b[0m \u001b[38;5;66;03m# read until we get a non-100 response\u001b[39;00m\n\u001b[0;32m    306\u001b[0m \u001b[38;5;28;01mwhile\u001b[39;00m \u001b[38;5;28;01mTrue\u001b[39;00m:\n\u001b[1;32m--> 307\u001b[0m     version, status, reason \u001b[38;5;241m=\u001b[39m \u001b[38;5;28;43mself\u001b[39;49m\u001b[38;5;241;43m.\u001b[39;49m\u001b[43m_read_status\u001b[49m\u001b[43m(\u001b[49m\u001b[43m)\u001b[49m\n\u001b[0;32m    308\u001b[0m     \u001b[38;5;28;01mif\u001b[39;00m status \u001b[38;5;241m!=\u001b[39m CONTINUE:\n\u001b[0;32m    309\u001b[0m         \u001b[38;5;28;01mbreak\u001b[39;00m\n",
      "File \u001b[1;32md:\\Program\\Anaconda\\envs\\CP\\lib\\http\\client.py:268\u001b[0m, in \u001b[0;36mHTTPResponse._read_status\u001b[1;34m(self)\u001b[0m\n\u001b[0;32m    267\u001b[0m \u001b[38;5;28;01mdef\u001b[39;00m \u001b[38;5;21m_read_status\u001b[39m(\u001b[38;5;28mself\u001b[39m):\n\u001b[1;32m--> 268\u001b[0m     line \u001b[38;5;241m=\u001b[39m \u001b[38;5;28mstr\u001b[39m(\u001b[38;5;28;43mself\u001b[39;49m\u001b[38;5;241;43m.\u001b[39;49m\u001b[43mfp\u001b[49m\u001b[38;5;241;43m.\u001b[39;49m\u001b[43mreadline\u001b[49m\u001b[43m(\u001b[49m\u001b[43m_MAXLINE\u001b[49m\u001b[43m \u001b[49m\u001b[38;5;241;43m+\u001b[39;49m\u001b[43m \u001b[49m\u001b[38;5;241;43m1\u001b[39;49m\u001b[43m)\u001b[49m, \u001b[38;5;124m\"\u001b[39m\u001b[38;5;124miso-8859-1\u001b[39m\u001b[38;5;124m\"\u001b[39m)\n\u001b[0;32m    269\u001b[0m     \u001b[38;5;28;01mif\u001b[39;00m \u001b[38;5;28mlen\u001b[39m(line) \u001b[38;5;241m>\u001b[39m _MAXLINE:\n\u001b[0;32m    270\u001b[0m         \u001b[38;5;28;01mraise\u001b[39;00m LineTooLong(\u001b[38;5;124m\"\u001b[39m\u001b[38;5;124mstatus line\u001b[39m\u001b[38;5;124m\"\u001b[39m)\n",
      "File \u001b[1;32md:\\Program\\Anaconda\\envs\\CP\\lib\\socket.py:704\u001b[0m, in \u001b[0;36mSocketIO.readinto\u001b[1;34m(self, b)\u001b[0m\n\u001b[0;32m    702\u001b[0m \u001b[38;5;28;01mwhile\u001b[39;00m \u001b[38;5;28;01mTrue\u001b[39;00m:\n\u001b[0;32m    703\u001b[0m     \u001b[38;5;28;01mtry\u001b[39;00m:\n\u001b[1;32m--> 704\u001b[0m         \u001b[38;5;28;01mreturn\u001b[39;00m \u001b[38;5;28;43mself\u001b[39;49m\u001b[38;5;241;43m.\u001b[39;49m\u001b[43m_sock\u001b[49m\u001b[38;5;241;43m.\u001b[39;49m\u001b[43mrecv_into\u001b[49m\u001b[43m(\u001b[49m\u001b[43mb\u001b[49m\u001b[43m)\u001b[49m\n\u001b[0;32m    705\u001b[0m     \u001b[38;5;28;01mexcept\u001b[39;00m timeout:\n\u001b[0;32m    706\u001b[0m         \u001b[38;5;28mself\u001b[39m\u001b[38;5;241m.\u001b[39m_timeout_occurred \u001b[38;5;241m=\u001b[39m \u001b[38;5;28;01mTrue\u001b[39;00m\n",
      "\u001b[1;31mKeyboardInterrupt\u001b[0m: "
     ]
    }
   ],
   "source": [
    "\n",
    "# Set your own appid/appkey.\n",
    "appid = '20221016001395046'\n",
    "appkey = 'W2hCHXMvlnJhdcIrlM6W'\n",
    "endpoint = 'http://api.fanyi.baidu.com'\n",
    "path = '/api/trans/vip/translate'\n",
    "url = endpoint + path\n",
    "\n",
    "output_file = \"translated_posts.txt\"\n",
    "idx = 0\n",
    "# 注意使用追加模式打开文件\n",
    "with open(output_file, \"a\", encoding=\"utf-8\") as file:\n",
    "    for post in tqdm(post_all_data):\n",
    "        try:\n",
    "            translated_content, success = baidu_translate(post['content'], from_lang='zh', to_lang='en')\n",
    "            if success:\n",
    "                post['content_trans'] = translated_content\n",
    "                file.write(str(post) + \"\\n\")\n",
    "                if idx > 10:\n",
    "                    break\n",
    "            else:\n",
    "                print(f\"Translation failed for post: {post}\")\n",
    "                raise Exception(\"Translation failed\")\n",
    "        except Exception as e:\n",
    "            print(f\"Translation failed for post: {post}, Error: {e}\")"
   ]
  },
  {
   "cell_type": "code",
   "execution_count": 19,
   "metadata": {},
   "outputs": [
    {
     "data": {
      "text/plain": [
       "{}"
      ]
     },
     "execution_count": 19,
     "metadata": {},
     "output_type": "execute_result"
    }
   ],
   "source": [
    "post_all_data[112]"
   ]
  },
  {
   "cell_type": "code",
   "execution_count": null,
   "metadata": {},
   "outputs": [],
   "source": []
  }
 ],
 "metadata": {
  "kernelspec": {
   "display_name": "crossplatform",
   "language": "python",
   "name": "crossplatform"
  },
  "language_info": {
   "codemirror_mode": {
    "name": "ipython",
    "version": 3
   },
   "file_extension": ".py",
   "mimetype": "text/x-python",
   "name": "python",
   "nbconvert_exporter": "python",
   "pygments_lexer": "ipython3",
   "version": "3.9.0"
  }
 },
 "nbformat": 4,
 "nbformat_minor": 2
}
