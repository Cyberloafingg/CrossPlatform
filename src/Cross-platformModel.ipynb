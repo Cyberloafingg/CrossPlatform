{
 "cells": [
  {
   "cell_type": "markdown",
   "metadata": {},
   "source": [
    "# 文件格式准备\n",
    "## 字段\n",
    "| 字段名 | 数据类型 | 描述 |\n",
    "| --- | --- | --- |\n",
    "|from |string |微博或X|\n",
    "| topic_id | int | 微博的唯一标识符 |\n",
    "| content | string | 帖子的具体内容 |\n",
    "| publish_time | datetime | 帖子的发布时间 |\n",
    "| cnt_retweet | int | 帖子被转发的次数 |\n",
    "| cnt_comment | int | 帖子被评论的次数 |\n",
    "| cnt_agree | int | 帖子被点赞的次数 |\n",
    "| userid | string | 发布帖子的账号 |\n",
    "| username | string | 发布帖子的账号昵称 |\n",
    "| url | string | 帖子的URL链接 |\n"
   ]
  },
  {
   "cell_type": "code",
   "execution_count": 2,
   "metadata": {},
   "outputs": [],
   "source": [
    "# 文件格式准备"
   ]
  },
  {
   "cell_type": "markdown",
   "metadata": {},
   "source": []
  }
 ],
 "metadata": {
  "kernelspec": {
   "display_name": "CP",
   "language": "python",
   "name": "python3"
  },
  "language_info": {
   "codemirror_mode": {
    "name": "ipython",
    "version": 3
   },
   "file_extension": ".py",
   "mimetype": "text/x-python",
   "name": "python",
   "nbconvert_exporter": "python",
   "pygments_lexer": "ipython3",
   "version": "3.9.0"
  }
 },
 "nbformat": 4,
 "nbformat_minor": 2
}
