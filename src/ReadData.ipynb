{
 "cells": [
  {
   "cell_type": "markdown",
   "source": [
    "# 微博数据"
   ],
   "metadata": {
    "collapsed": false
   }
  },
  {
   "cell_type": "code",
   "execution_count": 13,
   "outputs": [],
   "source": [
    "import json\n",
    "import os\n",
    "# 导入进度条库\n",
    "from tqdm import tqdm\n",
    "from langdetect import detect\n",
    "WEIBO_POST_PATH = \"../data/WeiboData/post\"\n",
    "WEIBO_ACCOUNT_PATH = \"../data/WeiboData/account\""
   ],
   "metadata": {
    "collapsed": false
   }
  },
  {
   "cell_type": "markdown",
   "source": [],
   "metadata": {
    "collapsed": false
   }
  },
  {
   "cell_type": "code",
   "execution_count": 24,
   "outputs": [
    {
     "name": "stderr",
     "output_type": "stream",
     "text": [
      "100%|████████████████████████████████████████████████████████████████████████████████████████████████████████████████████████████████████████████████████████████████████| 2472/2472 [09:17<00:00,  4.44it/s]"
     ]
    },
    {
     "name": "stdout",
     "output_type": "stream",
     "text": [
      "234391\n"
     ]
    },
    {
     "name": "stderr",
     "output_type": "stream",
     "text": [
      "\n"
     ]
    }
   ],
   "source": [
    "post_all_data = []\n",
    "other_lang = []\n",
    "for filename in tqdm(os.listdir(WEIBO_POST_PATH)):\n",
    "    if filename.endswith('.json'):\n",
    "        file_path = os.path.join(WEIBO_POST_PATH, filename)\n",
    "        with open(file_path, 'r',encoding='utf-8') as file:\n",
    "            data_group = json.load(file)\n",
    "            post_all_data.extend(data_group)\n",
    "            for data in data_group:\n",
    "                if \"content\" in data:\n",
    "                    try:\n",
    "                        detect_lang = detect(data[\"content\"])\n",
    "                    except:\n",
    "                        detect_lang = \"error\"\n",
    "                    if detect_lang != \"zh-cn\" and detect_lang != \"ko\":\n",
    "                        other_lang.append(\n",
    "                            {\"lang\": detect_lang, \"content\": data[\"content\"]}\n",
    "                        )\n",
    "print(len(post_all_data))"
   ],
   "metadata": {
    "collapsed": false
   }
  },
  {
   "cell_type": "code",
   "execution_count": 25,
   "outputs": [
    {
     "name": "stdout",
     "output_type": "stream",
     "text": [
      "235\n"
     ]
    }
   ],
   "source": [
    "print(len(other_lang))"
   ],
   "metadata": {
    "collapsed": false
   }
  },
  {
   "cell_type": "code",
   "execution_count": 41,
   "outputs": [
    {
     "name": "stdout",
     "output_type": "stream",
     "text": [
      "28\n",
      "../data/WeiboData/account\\UserRealtime_20240130205356_1.json\n",
      "25\n",
      "../data/WeiboData/account\\UserRealtime_20240130205356_2.json\n",
      "28\n",
      "../data/WeiboData/account\\UserRealtime_20240130205356_3.json\n",
      "21\n",
      "../data/WeiboData/account\\UserRealtime_20240130205356_4.json\n",
      "17\n",
      "../data/WeiboData/account\\UserRealtime_20240130205356_5.json\n",
      "25\n",
      "../data/WeiboData/account\\UserRealtime_20240130205356_6.json\n",
      "144\n"
     ]
    }
   ],
   "source": [
    "account_all_data = []\n",
    "for filename in os.listdir(WEIBO_ACCOUNT_PATH):\n",
    "    if filename.endswith('.json'):\n",
    "        # 构建完整文件路径\n",
    "        file_path = os.path.join(WEIBO_ACCOUNT_PATH, filename)\n",
    "        with open(file_path, 'r',encoding='utf-8') as file:\n",
    "            data_group = json.load(file)\n",
    "            account_all_data.extend(data_group)\n",
    "            print(len(data_group))\n",
    "            print(file_path)\n",
    "            # for data in data_group:\n",
    "            #     print(data)\n",
    "print(len(account_all_data))"
   ],
   "metadata": {
    "collapsed": false
   }
  },
  {
   "cell_type": "code",
   "execution_count": 37,
   "outputs": [
    {
     "name": "stdout",
     "output_type": "stream",
     "text": [
      "219035\n"
     ]
    }
   ],
   "source": [
    "TWITTER_POST_PATH = \"../data/TwitterData/meibo.json\"\n",
    "TWITTER_ACCOUNT_PATH = \"../data/TwitterData/meibo_user.json\"\n",
    "post_all_data = []\n",
    "with open(TWITTER_POST_PATH, 'r',encoding='utf-8') as file:\n",
    "    lines = file.readlines()\n",
    "    for line in lines:\n",
    "        data = json.loads(line)\n",
    "        post_all_data.append(data)\n",
    "print(len(post_all_data))"
   ],
   "metadata": {
    "collapsed": false
   }
  },
  {
   "cell_type": "code",
   "execution_count": 38,
   "outputs": [
    {
     "name": "stdout",
     "output_type": "stream",
     "text": [
      "55753\n"
     ]
    }
   ],
   "source": [
    "account_all_data = []\n",
    "with open(TWITTER_ACCOUNT_PATH, 'r',encoding='utf-8') as file:\n",
    "    lines = file.readlines()\n",
    "    for line in lines:\n",
    "        data = json.loads(line)\n",
    "        account_all_data.append(data)\n",
    "print(len(account_all_data))"
   ],
   "metadata": {
    "collapsed": false
   }
  },
  {
   "cell_type": "code",
   "execution_count": null,
   "outputs": [],
   "source": [],
   "metadata": {
    "collapsed": false
   }
  }
 ],
 "metadata": {
  "kernelspec": {
   "name": "crossplatform",
   "language": "python",
   "display_name": "crossplatform"
  },
  "language_info": {
   "codemirror_mode": {
    "name": "ipython",
    "version": 2
   },
   "file_extension": ".py",
   "mimetype": "text/x-python",
   "name": "python",
   "nbconvert_exporter": "python",
   "pygments_lexer": "ipython2",
   "version": "2.7.6"
  }
 },
 "nbformat": 4,
 "nbformat_minor": 0
}
